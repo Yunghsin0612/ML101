{
 "cells": [
  {
   "cell_type": "code",
   "id": "initial_id",
   "metadata": {
    "collapsed": true,
    "ExecuteTime": {
     "end_time": "2025-01-24T15:58:24.762025Z",
     "start_time": "2025-01-24T15:58:24.755178Z"
    }
   },
   "source": [
    "import copy, math\n",
    "import numpy as np\n",
    "import matplotlib.pyplot as plt\n",
    "np.set_printoptions(precision=2)  # reduced display precision on numpy arrays"
   ],
   "outputs": [],
   "execution_count": 33
  },
  {
   "metadata": {
    "ExecuteTime": {
     "end_time": "2025-01-24T15:58:24.780987Z",
     "start_time": "2025-01-24T15:58:24.775161Z"
    }
   },
   "cell_type": "code",
   "source": [
    "X_train = np.array([[2104, 5, 1, 45], [1416, 3, 2, 40], [852, 2, 1, 35]])\n",
    "y_train = np.array([460, 232, 178])"
   ],
   "id": "82734d51af2f323e",
   "outputs": [],
   "execution_count": 34
  },
  {
   "metadata": {
    "ExecuteTime": {
     "end_time": "2025-01-24T15:58:24.799608Z",
     "start_time": "2025-01-24T15:58:24.794308Z"
    }
   },
   "cell_type": "code",
   "source": [
    "# data is stored in numpy array/matrix\n",
    "print(f\"X Shape: {X_train.shape}, X Type:{type(X_train)})\")\n",
    "print(X_train)\n",
    "print(f\"y Shape: {y_train.shape}, y Type:{type(y_train)})\")\n",
    "print(y_train)"
   ],
   "id": "9297b49d612455a",
   "outputs": [
    {
     "name": "stdout",
     "output_type": "stream",
     "text": [
      "X Shape: (3, 4), X Type:<class 'numpy.ndarray'>)\n",
      "[[2104    5    1   45]\n",
      " [1416    3    2   40]\n",
      " [ 852    2    1   35]]\n",
      "y Shape: (3,), y Type:<class 'numpy.ndarray'>)\n",
      "[460 232 178]\n"
     ]
    }
   ],
   "execution_count": 35
  },
  {
   "metadata": {
    "ExecuteTime": {
     "end_time": "2025-01-24T15:58:24.836387Z",
     "start_time": "2025-01-24T15:58:24.832717Z"
    }
   },
   "cell_type": "code",
   "source": [
    "b_init = 785.1811367994083\n",
    "w_init = np.array([ 0.39133535, 18.75376741, -53.36032453, -26.42131618])\n",
    "print(f\"w_init shape: {w_init.shape}, b_init type: {type(b_init)}\")"
   ],
   "id": "579bfb7561fec651",
   "outputs": [
    {
     "name": "stdout",
     "output_type": "stream",
     "text": [
      "w_init shape: (4,), b_init type: <class 'float'>\n"
     ]
    }
   ],
   "execution_count": 36
  },
  {
   "metadata": {
    "ExecuteTime": {
     "end_time": "2025-01-24T15:58:24.879705Z",
     "start_time": "2025-01-24T15:58:24.874828Z"
    }
   },
   "cell_type": "code",
   "source": [
    "# predict of fw,b\n",
    "def predict(x, w, b):\n",
    "    fw_b = np.dot(x, w) + b\n",
    "    return fw_b"
   ],
   "id": "45e03e90ab2eae22",
   "outputs": [],
   "execution_count": 37
  },
  {
   "metadata": {
    "ExecuteTime": {
     "end_time": "2025-01-24T15:58:24.910048Z",
     "start_time": "2025-01-24T15:58:24.905226Z"
    }
   },
   "cell_type": "code",
   "source": [
    "x_vec = X_train[0, :]\n",
    "fw_b = predict(x_vec, w_init, b_init)\n",
    "print(f\"fw_b shape: {fw_b.shape}\")\n",
    "print(f\"fw_b type: {type(fw_b)}\")\n",
    "print(fw_b)"
   ],
   "id": "e255f06d313c1f43",
   "outputs": [
    {
     "name": "stdout",
     "output_type": "stream",
     "text": [
      "fw_b shape: ()\n",
      "fw_b type: <class 'numpy.float64'>\n",
      "459.9999976194083\n"
     ]
    }
   ],
   "execution_count": 38
  },
  {
   "metadata": {},
   "cell_type": "markdown",
   "source": "Compute Cost Function",
   "id": "b9e772a11b042b40"
  },
  {
   "metadata": {
    "ExecuteTime": {
     "end_time": "2025-01-24T15:58:24.932622Z",
     "start_time": "2025-01-24T15:58:24.927200Z"
    }
   },
   "cell_type": "code",
   "source": [
    "def compute_cost(X, y, w, b): \n",
    "    \"\"\"\n",
    "    compute cost\n",
    "    Args:\n",
    "      X (ndarray (m,n)): Data, m examples with n features\n",
    "      y (ndarray (m,)) : target values\n",
    "      w (ndarray (n,)) : model parameters  \n",
    "      b (scalar)       : model parameter\n",
    "      \n",
    "    Returns:\n",
    "      cost (scalar): cost\n",
    "    \"\"\"\n",
    "    m = X.shape[0]\n",
    "    cost = 0.0\n",
    "    for i in range(m):                                \n",
    "        f_wb_i = np.dot(X[i], w) + b\n",
    "        #(n,)(n,) = scalar (see np.dot)\n",
    "        cost = cost + (f_wb_i - y[i])**2       #scalar\n",
    "    cost = cost / (2 * m)                      #scalar    \n",
    "    return cost"
   ],
   "id": "4bb14e80b362c8ca",
   "outputs": [],
   "execution_count": 39
  },
  {
   "metadata": {
    "ExecuteTime": {
     "end_time": "2025-01-24T15:58:24.957660Z",
     "start_time": "2025-01-24T15:58:24.952723Z"
    }
   },
   "cell_type": "code",
   "source": [
    "# Compute and display cost using our pre-chosen optimal parameters. \n",
    "cost = compute_cost(X_train, y_train, w_init, b_init)\n",
    "print(f'Cost at optimal w : {cost}')"
   ],
   "id": "b4e5be56c616303e",
   "outputs": [
    {
     "name": "stdout",
     "output_type": "stream",
     "text": [
      "Cost at optimal w : 1.5578904428966628e-12\n"
     ]
    }
   ],
   "execution_count": 40
  },
  {
   "metadata": {},
   "cell_type": "markdown",
   "source": [
    "Gradiant Descent\n",
    "first need to set a function to compute gradient descent, afterward iterate to find smallest (converge) cost function"
   ],
   "id": "e725fede8d910796"
  },
  {
   "metadata": {
    "ExecuteTime": {
     "end_time": "2025-01-24T15:58:24.978550Z",
     "start_time": "2025-01-24T15:58:24.974481Z"
    }
   },
   "cell_type": "code",
   "source": [
    "def compute_gradient(X, y, w, b): \n",
    "    \"\"\"\n",
    "    Computes the gradient for linear regression \n",
    "    Args:\n",
    "      X (ndarray (m,n)): Data, m examples with n features\n",
    "      y (ndarray (m,)) : target values\n",
    "      w (ndarray (n,)) : model parameters  \n",
    "      b (scalar)       : model parameter\n",
    "      \n",
    "    Returns:\n",
    "      dj_dw (ndarray (n,)): The gradient of the cost w.r.t. the parameters w. \n",
    "      dj_db (scalar):       The gradient of the cost w.r.t. the parameter b. \n",
    "    \"\"\"\n",
    "    m,n = X.shape           #(number of examples, number of features)\n",
    "    dj_dw = np.zeros((n,))\n",
    "    dj_db = 0.\n",
    "\n",
    "    for i in range(m):                             \n",
    "        err = (np.dot(X[i], w) + b) - y[i]   \n",
    "        for j in range(n):                         \n",
    "            dj_dw[j] = dj_dw[j] + err * X[i, j]    \n",
    "        dj_db = dj_db + err                        \n",
    "    dj_dw = dj_dw / m                                \n",
    "    dj_db = dj_db / m                                \n",
    "        \n",
    "    return dj_db, dj_dw"
   ],
   "id": "31187969cc13b506",
   "outputs": [],
   "execution_count": 41
  },
  {
   "metadata": {
    "ExecuteTime": {
     "end_time": "2025-01-24T15:58:24.998845Z",
     "start_time": "2025-01-24T15:58:24.994520Z"
    }
   },
   "cell_type": "code",
   "source": [
    "#Compute and display gradient \n",
    "tmp_dj_db, tmp_dj_dw = compute_gradient(X_train, y_train, w_init, b_init)\n",
    "print(f'dj_db at initial w,b: {tmp_dj_db}')\n",
    "print(f'dj_dw at initial w,b: \\n {tmp_dj_dw}')"
   ],
   "id": "c68c7c18e0902da",
   "outputs": [
    {
     "name": "stdout",
     "output_type": "stream",
     "text": [
      "dj_db at initial w,b: -1.6739251501955248e-06\n",
      "dj_dw at initial w,b: \n",
      " [-2.73e-03 -6.27e-06 -2.22e-06 -6.92e-05]\n"
     ]
    }
   ],
   "execution_count": 42
  },
  {
   "metadata": {
    "ExecuteTime": {
     "end_time": "2025-01-24T16:07:02.067736Z",
     "start_time": "2025-01-24T16:07:02.063564Z"
    }
   },
   "cell_type": "code",
   "source": [
    "def gradient_descent(X, y, w_in, b_in, cost_function, gradient_function, alpha, num_iters): \n",
    "    \"\"\"\n",
    "    Performs batch gradient descent to learn w and b. Updates w and b by taking \n",
    "    num_iters gradient steps with learning rate alpha\n",
    "    \n",
    "    Args:\n",
    "      X (ndarray (m,n))   : Data, m examples with n features\n",
    "      y (ndarray (m,))    : target values\n",
    "      w_in (ndarray (n,)) : initial model parameters  \n",
    "      b_in (scalar)       : initial model parameter\n",
    "      cost_function       : function to compute cost\n",
    "      gradient_function   : function to compute the gradient\n",
    "      alpha (float)       : Learning rate\n",
    "      num_iters (int)     : number of iterations to run gradient descent\n",
    "      \n",
    "    Returns:\n",
    "      w (ndarray (n,)) : Updated values of parameters \n",
    "      b (scalar)       : Updated value of parameter \n",
    "      \"\"\"\n",
    "    \n",
    "    # An array to store cost J and w's at each iteration primarily for graphing late\n",
    "    j_history = []\n",
    "    w = copy.deepcopy(w_in) #avoid modifying global w within function\n",
    "    b = b_in\n",
    "    print(f\"w: {w}, b: {b}\")\n",
    "    for i in range(num_iters):\n",
    "        dj_db, dj_dw = gradient_function(X, y, w, b)\n",
    "        \n",
    "        w = w - alpha * dj_dw\n",
    "        b = b - alpha * dj_db\n",
    "        j = cost_function(X, y, w, b)\n",
    "        \n",
    "        if num_iters < 10000:\n",
    "            j_history.append(j)\n",
    "        \n",
    "        # Print cost every at intervals 10 times or as many iterations if < 10\n",
    "        if i % math.ceil(num_iters/10) == 0:\n",
    "            print(f'Iteration: {i: 4d}: Cost: {j_history[-1]: 8.2f}')\n",
    "            \n",
    "    return w, b, j_history"
   ],
   "id": "8a83d5a1b60194bd",
   "outputs": [],
   "execution_count": 57
  },
  {
   "metadata": {
    "ExecuteTime": {
     "end_time": "2025-01-24T16:10:36.220098Z",
     "start_time": "2025-01-24T16:10:36.200585Z"
    }
   },
   "cell_type": "code",
   "source": [
    "# initialize parameters\n",
    "# w_init: [0. 0. 0. 0.]\n",
    "# b_init: 0.0\n",
    "initial_w = np.zeros_like(w_init) #creates a new array filled with zeros that has the same shape and data type as a given array.\n",
    "initial_b = 0.\n",
    "\n",
    "# some gradient descent settings\n",
    "iterations = 1000\n",
    "alpha = 5.0e-7\n",
    "# run gradient descent \n",
    "w_final, b_final, J_hist = gradient_descent(X_train, y_train, initial_w, initial_b,\n",
    "                                                    compute_cost, compute_gradient, \n",
    "                                                    alpha, iterations)\n",
    "print(f\"b,w found by gradient descent: b: {b_final:0.2f}, w: {w_final} \")\n",
    "m,_ = X_train.shape\n",
    "for i in range(m):\n",
    "    print(f\"prediction: {np.dot(X_train[i], w_final) + b_final:0.2f}, target value: {y_train[i]}\")"
   ],
   "id": "40e04feeacb0d8a9",
   "outputs": [
    {
     "name": "stdout",
     "output_type": "stream",
     "text": [
      "w: [0. 0. 0. 0.], b: 0.0\n",
      "Iteration:    0: Cost:  2529.46\n",
      "Iteration:  100: Cost:   695.99\n",
      "Iteration:  200: Cost:   694.92\n",
      "Iteration:  300: Cost:   693.86\n",
      "Iteration:  400: Cost:   692.81\n",
      "Iteration:  500: Cost:   691.77\n",
      "Iteration:  600: Cost:   690.73\n",
      "Iteration:  700: Cost:   689.71\n",
      "Iteration:  800: Cost:   688.70\n",
      "Iteration:  900: Cost:   687.69\n",
      "b,w found by gradient descent: b: -0.00, w: [ 0.2   0.   -0.01 -0.07] \n",
      "prediction: 426.19, target value: 460\n",
      "prediction: 286.17, target value: 232\n",
      "prediction: 171.47, target value: 178\n"
     ]
    }
   ],
   "execution_count": 59
  },
  {
   "metadata": {
    "ExecuteTime": {
     "end_time": "2025-01-24T16:29:17.424346Z",
     "start_time": "2025-01-24T16:29:17.242316Z"
    }
   },
   "cell_type": "code",
   "source": [
    "# plot cost versus iteration  \n",
    "fig, (ax1, ax2) = plt.subplots(1, 2, constrained_layout=True, figsize=(12, 4))\n",
    "print(f\"len of J_hist: {len(J_hist)}\")\n",
    "for i, j in enumerate(J_hist):\n",
    "    if i % 100 == 0:\n",
    "        print(f\"i: {i}, j: {j:.2f}\")\n",
    "ax1.plot(J_hist)\n",
    "# set x axis from 100 to 1000, y axis from j_hist index 100\n",
    "ax2.plot(100 + np.arange(len(J_hist[100:])), J_hist[100:])\n",
    "ax1.set_title(\"Cost vs. iteration\");  ax2.set_title(\"Cost vs. iteration (tail)\")\n",
    "ax1.set_ylabel('Cost')             ;  ax2.set_ylabel('Cost') \n",
    "ax1.set_xlabel('iteration step')   ;  ax2.set_xlabel('iteration step') \n",
    "plt.show()"
   ],
   "id": "5ad3775eceedce06",
   "outputs": [
    {
     "name": "stdout",
     "output_type": "stream",
     "text": [
      "len of J_hist: 1000\n",
      "i: 0, j: 2529.46\n",
      "i: 100, j: 695.99\n",
      "i: 200, j: 694.92\n",
      "i: 300, j: 693.86\n",
      "i: 400, j: 692.81\n",
      "i: 500, j: 691.77\n",
      "i: 600, j: 690.73\n",
      "i: 700, j: 689.71\n",
      "i: 800, j: 688.70\n",
      "i: 900, j: 687.69\n"
     ]
    },
    {
     "data": {
      "text/plain": [
       "<Figure size 1200x400 with 2 Axes>"
      ],
      "image/png": "[encoded data removed]"
     },
     "metadata": {},
     "output_type": "display_data"
    }
   ],
   "execution_count": 69
  }
 ],
 "metadata": {
  "kernelspec": {
   "display_name": "Python 3",
   "language": "python",
   "name": "python3"
  },
  "language_info": {
   "codemirror_mode": {
    "name": "ipython",
    "version": 2
   },
   "file_extension": ".py",
   "mimetype": "text/x-python",
   "name": "python",
   "nbconvert_exporter": "python",
   "pygments_lexer": "ipython2",
   "version": "2.7.6"
  }
 },
 "nbformat": 4,
 "nbformat_minor": 5
}
